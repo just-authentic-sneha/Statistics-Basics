{
  "nbformat": 4,
  "nbformat_minor": 0,
  "metadata": {
    "colab": {
      "provenance": []
    },
    "kernelspec": {
      "name": "python3",
      "display_name": "Python 3"
    },
    "language_info": {
      "name": "python"
    }
  },
  "cells": [
    {
      "cell_type": "markdown",
      "source": [
        "# Statistics Basics"
      ],
      "metadata": {
        "id": "C_cOnMtCOGy1"
      }
    },
    {
      "cell_type": "markdown",
      "source": [
        "\n",
        "### 1. What is statistics, and why is it important?\n",
        "- Statistics is the science of collecting, analyzing, interpreting, presenting, and organizing data. It is important because it helps in decision-making, predicting outcomes, and understanding trends across various fields such as science, business, and social sciences.\n",
        "\n",
        "---\n",
        "\n",
        "### 2. What are the two main types of statistics?\n",
        "The two main types of statistics are:\n",
        "- Descriptive Statistics\n",
        "- Inferential Statistics\n",
        "\n",
        "---\n",
        "\n",
        "### 3. What are descriptive statistics?\n",
        "- Descriptive statistics summarize and describe the main features of a dataset using measures such as mean, median, mode, range, and standard deviation.\n",
        "\n",
        "---\n",
        "\n",
        "### 4. What is inferential statistics?\n",
        "- Inferential statistics involve drawing conclusions or making predictions about a population based on a sample of data. It includes hypothesis testing, confidence intervals, and regression analysis.\n",
        "\n",
        "---\n",
        "\n",
        "### 5. What is sampling in statistics?\n",
        "- Sampling is the process of selecting a subset of individuals or observations from a larger population to estimate characteristics of the whole population.\n",
        "\n",
        "---\n",
        "\n",
        "### 6. What are the different types of sampling methods?\n",
        "Sampling methods include:\n",
        "- Simple random sampling\n",
        "- Stratified sampling\n",
        "- Systematic sampling\n",
        "- Cluster sampling\n",
        "- Convenience sampling\n",
        "- Quota sampling\n",
        "- Snowball sampling\n",
        "\n",
        "---\n",
        "\n",
        "### 7. What is the difference between random and non-random sampling?\n",
        "- Random sampling gives every individual an equal chance of selection, ensuring unbiased results. Non-random sampling does not offer equal chances and may introduce bias.\n",
        "\n",
        "---\n",
        "\n",
        "### 8. Define and give examples of qualitative and quantitative data.\n",
        "- Qualitative data: Descriptive data such as colors, labels, or categories (e.g., gender, nationality).\n",
        "- Quantitative data: Numerical data (e.g., height, weight, number of students).\n",
        "\n",
        "---\n",
        "\n",
        "### 9. What are the different types of data in statistics?\n",
        "The types of data include:\n",
        "- Qualitative (categorical) data\n",
        "- Quantitative (numerical) data\n",
        "Quantitative data can further be:\n",
        "- Discrete data\n",
        "- Continuous data\n",
        "\n",
        "---\n",
        "\n",
        "### 10. Explain nominal, ordinal, interval, and ratio levels of measurement.\n",
        "- Nominal: Categories with no order (e.g., blood type).\n",
        "- Ordinal: Categories with a meaningful order (e.g., rankings).\n",
        "- Interval: Ordered data with equal spacing, no true zero (e.g., temperature in °C).\n",
        "- Ratio: Like interval, but with a true zero (e.g., weight, height).\n",
        "\n",
        "---\n",
        "\n",
        "### 11. What is the measure of central tendency?\n",
        "- It refers to statistical measures that identify the center or typical value of a dataset. Common measures include mean, median, and mode.\n",
        "\n",
        "---\n",
        "\n",
        "### 12. Define mean, median, and mode.\n",
        "- Mean: The average of all values.\n",
        "- Median: The middle value when data is sorted.\n",
        "- Mode: The most frequent value in the dataset.\n",
        "\n",
        "---\n",
        "\n",
        "### 13. What is the significance of the measure of central tendency?\n",
        "- It helps summarize a dataset with a single representative value, simplifying data interpretation and comparison.\n",
        "\n",
        "---\n",
        "\n",
        "### 14. What is variance, and how is it calculated?\n",
        "- Variance measures the spread of data points around the mean. It is calculated as the average of the squared differences from the mean.\n",
        "\n",
        "---\n",
        "\n",
        "### 15. What is standard deviation, and why is it important?\n",
        "- Standard deviation is the square root of variance and represents how much data deviates from the mean. It’s important for understanding variability in data.\n",
        "\n",
        "---\n",
        "\n",
        "### 16. Define and explain the term range in statistics.\n",
        "- Range is the difference between the maximum and minimum values in a dataset. It gives a quick sense of the spread of the data.\n",
        "\n",
        "---\n",
        "\n",
        "### 17. What is the difference between variance and standard deviation?\n",
        "- Variance is the average squared deviation from the mean, while standard deviation is the square root of variance and is in the same units as the data.\n",
        "\n",
        "---\n",
        "\n",
        "### 18. What is skewness in a dataset?\n",
        "- Skewness indicates the asymmetry of the data distribution. A dataset can be symmetrically distributed, positively skewed, or negatively skewed.\n",
        "\n",
        "---\n",
        "\n",
        "### 19. What does it mean if a dataset is positively or negatively skewed?\n",
        "- Positively skewed: Tail is longer on the right; more values are concentrated on the left.\n",
        "- Negatively skewed: Tail is longer on the left; more values are concentrated on the right.\n",
        "\n",
        "---\n",
        "\n",
        "### 20. Define and explain kurtosis.\n",
        "- Kurtosis measures the \"tailedness\" of a distribution. High kurtosis indicates heavy tails, while low kurtosis indicates light tails compared to a normal distribution.\n",
        "\n",
        "---\n",
        "\n",
        "### 21. What is the purpose of covariance?\n",
        "- Covariance measures how two variables change together. A positive covariance means both variables increase together, and a negative value means one increases while the other decreases.\n",
        "\n",
        "---\n",
        "\n",
        "### 22. What does correlation measure in statistics?\n",
        "- Correlation measures the strength and direction of a linear relationship between two variables. It ranges from -1 to +1.\n",
        "\n",
        "---\n",
        "\n",
        "### 23. What is the difference between covariance and correlation?\n",
        "-While both measure relationships between variables:\n",
        "- Covariance indicates direction but not strength.\n",
        "- Correlation standardizes covariance to measure both direction and strength.\n",
        "\n",
        "---\n",
        "\n",
        "### 24. What are some real-world applications of statistics?\n",
        "Statistics is used in various fields like:\n",
        "- Healthcare (clinical trials)\n",
        "- Business (market analysis)\n",
        "- Government (census data)\n",
        "- Education (exam analysis)\n",
        "- Sports (performance metrics)\n",
        "- Research (scientific studies)\n",
        "\n",
        "---"
      ],
      "metadata": {
        "id": "bq_ZjNpiONc2"
      }
    },
    {
      "cell_type": "markdown",
      "source": [
        "\n",
        "### 1. How do you calculate the mean, median, and mode of a dataset?\n",
        "- **Mean**: Sum of all data values divided by the number of values.\n",
        "- **Median**: Middle value when the data is sorted.\n",
        "- **Mode**: Value(s) that appear most frequently in the dataset.\n"
      ],
      "metadata": {
        "id": "3-b-OWoYFWT6"
      }
    },
    {
      "cell_type": "code",
      "source": [
        "import numpy as np\n",
        "from scipy import stats\n",
        "\n",
        "data = [10, 20, 20, 30, 40, 40, 40, 50]\n",
        "\n",
        "mean = np.mean(data)\n",
        "median = np.median(data)\n",
        "mode = stats.mode(data)\n",
        "\n",
        "print(\"Mean:\", mean)\n",
        "print(\"Median:\", median)\n",
        "print(\"Mode:\", mode.mode)\n"
      ],
      "metadata": {
        "colab": {
          "base_uri": "https://localhost:8080/"
        },
        "id": "ao1mD-3mOzFX",
        "outputId": "292d0bdf-fce0-42cd-aaef-1f0326a0700c"
      },
      "execution_count": null,
      "outputs": [
        {
          "output_type": "stream",
          "name": "stdout",
          "text": [
            "Mean: 31.25\n",
            "Median: 35.0\n",
            "Mode: 40\n"
          ]
        }
      ]
    },
    {
      "cell_type": "code",
      "source": [
        "# 2. Write a Python program to compute the variance and standard deviation of a dataset.\n",
        "\n",
        "data = [5, 10, 15, 20, 25]\n",
        "\n",
        "variance = np.var(data)\n",
        "std_dev = np.std(data)\n",
        "\n",
        "print(\"Variance:\", variance)\n",
        "print(\"Standard Deviation:\", std_dev)\n",
        "\n"
      ],
      "metadata": {
        "colab": {
          "base_uri": "https://localhost:8080/"
        },
        "id": "_HXjdH2PGfVk",
        "outputId": "cce9dd9b-37be-41d5-8114-3c922c6979cd"
      },
      "execution_count": null,
      "outputs": [
        {
          "output_type": "stream",
          "name": "stdout",
          "text": [
            "Variance: 50.0\n",
            "Standard Deviation: 7.0710678118654755\n"
          ]
        }
      ]
    },
    {
      "cell_type": "markdown",
      "source": [
        "### 3. Create a dataset and classify it into nominal, ordinal, interval, and ratio types.\n",
        "\n",
        "Below is a small dataset representing student records. The variables are classified into nominal, ordinal, interval, and ratio types:\n",
        "\n",
        "| Name      | Grade | Temperature (°C) | Height (cm) |\n",
        "|-----------|-------|------------------|-------------|\n",
        "| Alice     | B     | 36.5             | 160         |\n",
        "| Bob       | A     | 37.0             | 175         |\n",
        "| Charlie   | C     | 38.2             | 168         |\n",
        "\n",
        "- **Nominal**: Name (categorical without order)\n",
        "- **Ordinal**: Grade (A > B > C)\n",
        "- **Interval**: Temperature (°C) — equal intervals, no true zero\n",
        "- **Ratio**: Height (cm) — true zero and meaningful ratios\n"
      ],
      "metadata": {
        "id": "VSIl1rfSH1Fm"
      }
    },
    {
      "cell_type": "code",
      "source": [
        "import pandas as pd\n",
        "import pandas.api.types as ptypes\n",
        "\n",
        "# Create the dataset\n",
        "data = {\n",
        "    'Name': ['Alice', 'Bob', 'Charlie'],                  # Nominal\n",
        "    'Grade': pd.Categorical(['B', 'A', 'C'], ordered=True), # Ordinal\n",
        "    'Temperature (°C)': [36.5, 37.0, 38.2],               # Interval\n",
        "    'Height (cm)': [160, 175, 168]                        # Ratio\n",
        "}\n",
        "\n",
        "df = pd.DataFrame(data)\n",
        "\n",
        "# Display dataset\n",
        "print(\"Dataset:\")\n",
        "print(df)\n",
        "\n",
        "# Classify columns\n",
        "print(\"\\nClassification of Data Types:\")\n",
        "print(\"Name               -> Nominal (Categorical, no order)\")\n",
        "print(\"Grade              -> Ordinal (Categorical, ordered)\")\n",
        "print(\"Temperature (°C)   -> Interval (No true zero, can add/subtract)\")\n",
        "print(\"Height (cm)        -> Ratio (Has a true zero, can multiply/divide)\")\n",
        "\n"
      ],
      "metadata": {
        "colab": {
          "base_uri": "https://localhost:8080/"
        },
        "id": "wIStJ7dYH53C",
        "outputId": "3bd0ec5d-ccb0-447d-f90e-4f642ca311c1"
      },
      "execution_count": null,
      "outputs": [
        {
          "output_type": "stream",
          "name": "stdout",
          "text": [
            "Dataset:\n",
            "      Name Grade  Temperature (°C)  Height (cm)\n",
            "0    Alice     B              36.5          160\n",
            "1      Bob     A              37.0          175\n",
            "2  Charlie     C              38.2          168\n",
            "\n",
            "Classification of Data Types:\n",
            "Name               -> Nominal (Categorical, no order)\n",
            "Grade              -> Ordinal (Categorical, ordered)\n",
            "Temperature (°C)   -> Interval (No true zero, can add/subtract)\n",
            "Height (cm)        -> Ratio (Has a true zero, can multiply/divide)\n"
          ]
        }
      ]
    },
    {
      "cell_type": "code",
      "source": [
        "# 4. Implement sampling techniques like random sampling and stratified sampling.\n",
        "\n",
        "import pandas as pd\n",
        "from sklearn.model_selection import train_test_split\n",
        "\n",
        "df = pd.DataFrame({\n",
        "    'Name': ['A', 'B', 'C', 'D', 'E', 'F'],\n",
        "    'Group': ['X', 'X', 'Y', 'Y', 'Z', 'Z']\n",
        "})\n",
        "\n",
        "# Random Sampling\n",
        "random_sample = df.sample(n=3)\n",
        "\n",
        "# Stratified Sampling\n",
        "strat_sample, _ = train_test_split(df, test_size=0.5, stratify=df['Group'])\n",
        "\n",
        "print(\"Random Sample:\\n\", random_sample)\n",
        "print(\"Stratified Sample:\\n\", strat_sample)\n"
      ],
      "metadata": {
        "colab": {
          "base_uri": "https://localhost:8080/"
        },
        "id": "GkQBdeHUI14U",
        "outputId": "369c4802-1a5f-4f55-a472-160c8fa36b9f"
      },
      "execution_count": null,
      "outputs": [
        {
          "output_type": "stream",
          "name": "stdout",
          "text": [
            "Random Sample:\n",
            "   Name Group\n",
            "5    F     Z\n",
            "4    E     Z\n",
            "1    B     X\n",
            "Stratified Sample:\n",
            "   Name Group\n",
            "3    D     Y\n",
            "4    E     Z\n",
            "1    B     X\n"
          ]
        }
      ]
    },
    {
      "cell_type": "code",
      "source": [
        "# 5. Write a Python function to calculate the range of a dataset.\n",
        "\n",
        "def calculate_range(data):\n",
        "    return max(data) - min(data)\n",
        "\n",
        "data = [12, 45, 7, 34, 89, 22]\n",
        "print(\"Range:\", calculate_range(data))\n"
      ],
      "metadata": {
        "colab": {
          "base_uri": "https://localhost:8080/"
        },
        "id": "ergi5mbeJAST",
        "outputId": "6945c939-b2fa-4b7d-ad1d-a4b68df695df"
      },
      "execution_count": null,
      "outputs": [
        {
          "output_type": "stream",
          "name": "stdout",
          "text": [
            "Range: 82\n"
          ]
        }
      ]
    },
    {
      "cell_type": "code",
      "source": [
        "# 6. Create a dataset and plot its histogram to visualize skewness.\n",
        "\n",
        "import matplotlib.pyplot as plt\n",
        "\n",
        "data = [10, 10, 20, 20, 30, 40, 50, 60, 100]\n",
        "plt.hist(data, bins=10, edgecolor='black')\n",
        "plt.title(\"Histogram to Visualize Skewness\")\n",
        "plt.xlabel(\"Values\")\n",
        "plt.ylabel(\"Frequency\")\n",
        "plt.show()\n"
      ],
      "metadata": {
        "colab": {
          "base_uri": "https://localhost:8080/",
          "height": 472
        },
        "id": "V-MtpUaUIGQh",
        "outputId": "5b7d1396-2e72-473e-8fa9-f8afd2c1988a"
      },
      "execution_count": null,
      "outputs": [
        {
          "output_type": "display_data",
          "data": {
            "text/plain": [
              "<Figure size 640x480 with 1 Axes>"
            ],
            "image/png": "[encoded data removed]"
          },
          "metadata": {}
        }
      ]
    },
    {
      "cell_type": "code",
      "source": [
        "# 7. Calculate skewness and kurtosis of a dataset using Python libraries.\n",
        "\n",
        "from scipy.stats import skew, kurtosis\n",
        "\n",
        "data = [10, 20, 30, 40, 50, 60, 70, 80, 200]\n",
        "\n",
        "print(\"Skewness:\", skew(data))\n",
        "print(\"Kurtosis:\", kurtosis(data))\n"
      ],
      "metadata": {
        "colab": {
          "base_uri": "https://localhost:8080/"
        },
        "id": "-1rVe7GGJNUl",
        "outputId": "d88efd40-7d43-4bd9-dd90-2c4625bf8f0f"
      },
      "execution_count": null,
      "outputs": [
        {
          "output_type": "stream",
          "name": "stdout",
          "text": [
            "Skewness: 1.7312135873190864\n",
            "Kurtosis: 2.132032514177693\n"
          ]
        }
      ]
    },
    {
      "cell_type": "code",
      "source": [
        "# 8. Generate a dataset and demonstrate positive and negative skewness.\n",
        "\n",
        "positive_skew = [1, 2, 2, 3, 3, 3, 4, 10]\n",
        "negative_skew = [10, 10, 8, 6, 5, 4, 3, 1]\n",
        "\n",
        "print(\"Positive Skewness:\", skew(positive_skew))\n",
        "print(\"Negative Skewness:\", skew(negative_skew))\n"
      ],
      "metadata": {
        "colab": {
          "base_uri": "https://localhost:8080/"
        },
        "id": "BcIxQmg4JRtG",
        "outputId": "0a6f2b7c-3b3c-4a44-947e-ca25aa38bb38"
      },
      "execution_count": null,
      "outputs": [
        {
          "output_type": "stream",
          "name": "stdout",
          "text": [
            "Positive Skewness: 1.7962008374788356\n",
            "Negative Skewness: 0.013505944373639106\n"
          ]
        }
      ]
    },
    {
      "cell_type": "code",
      "source": [
        "# 9. Write a Python script to calculate covariance between two datasets.\n",
        "\n",
        "x = [1, 2, 3, 4, 5]\n",
        "y = [2, 4, 6, 8, 10]\n",
        "\n",
        "cov_matrix = np.cov(x, y)\n",
        "print(\"Covariance:\", cov_matrix[0, 1])\n"
      ],
      "metadata": {
        "colab": {
          "base_uri": "https://localhost:8080/"
        },
        "id": "eh5JiLi5JYLO",
        "outputId": "26dc1bcb-f0d8-47b9-e554-2d44411ceec3"
      },
      "execution_count": null,
      "outputs": [
        {
          "output_type": "stream",
          "name": "stdout",
          "text": [
            "Covariance: 5.0\n"
          ]
        }
      ]
    },
    {
      "cell_type": "code",
      "source": [
        "# 10. Write a Python script to calculate the correlation coefficient between two datasets.\n",
        "\n",
        "correlation = np.corrcoef(x, y)\n",
        "print(\"Correlation Coefficient:\", correlation[0, 1])\n"
      ],
      "metadata": {
        "colab": {
          "base_uri": "https://localhost:8080/"
        },
        "id": "eMkwbKWiJeEv",
        "outputId": "5854263c-9c1c-478e-ed19-386bb3a05f06"
      },
      "execution_count": null,
      "outputs": [
        {
          "output_type": "stream",
          "name": "stdout",
          "text": [
            "Correlation Coefficient: 0.9999999999999999\n"
          ]
        }
      ]
    },
    {
      "cell_type": "code",
      "source": [
        "# 11. Create a scatter plot to visualize the relationship between two variables.\n",
        "\n",
        "plt.scatter(x, y)\n",
        "plt.title(\"Scatter Plot\")\n",
        "plt.xlabel(\"X values\")\n",
        "plt.ylabel(\"Y values\")\n",
        "plt.show()\n"
      ],
      "metadata": {
        "colab": {
          "base_uri": "https://localhost:8080/",
          "height": 472
        },
        "id": "lMUVIhunJjYN",
        "outputId": "d07e1149-c60f-4065-b604-34a8154c9bfc"
      },
      "execution_count": null,
      "outputs": [
        {
          "output_type": "display_data",
          "data": {
            "text/plain": [
              "<Figure size 640x480 with 1 Axes>"
            ],
            "image/png": "[encoded data removed]"
          },
          "metadata": {}
        }
      ]
    },
    {
      "cell_type": "code",
      "source": [
        "# 12. Implement and compare simple random sampling and systematic sampling.\n",
        "import random\n",
        "\n",
        "data = list(range(1, 21))  # 1 to 20\n",
        "\n",
        "# Simple Random Sampling\n",
        "simple_sample = random.sample(data, 5)\n",
        "\n",
        "# Systematic Sampling\n",
        "k = 4\n",
        "systematic_sample = data[::k]\n",
        "\n",
        "print(\"Simple Random Sample:\", simple_sample)\n",
        "print(\"Systematic Sample:\", systematic_sample)\n"
      ],
      "metadata": {
        "colab": {
          "base_uri": "https://localhost:8080/"
        },
        "id": "Eo7ThTAdJoiP",
        "outputId": "e5c927ce-6c86-4eb9-80dc-1cff5446e2fb"
      },
      "execution_count": 5,
      "outputs": [
        {
          "output_type": "stream",
          "name": "stdout",
          "text": [
            "Simple Random Sample: [11, 15, 16, 3, 19]\n",
            "Systematic Sample: [1, 5, 9, 13, 17]\n"
          ]
        }
      ]
    },
    {
      "cell_type": "code",
      "source": [
        "# 13. Calculate the mean, median, and mode of grouped data.\n",
        "\n",
        "grouped_data = {\n",
        "    'intervals': [(0,10), (10,20), (20,30)],\n",
        "    'frequencies': [5, 10, 5]\n",
        "}\n",
        "\n",
        "midpoints = [(i[0] + i[1]) / 2 for i in grouped_data['intervals']]\n",
        "total_freq = sum(grouped_data['frequencies'])\n",
        "\n",
        "mean = sum([midpoints[i] * grouped_data['frequencies'][i] for i in range(len(midpoints))]) / total_freq\n",
        "print(\"Grouped Mean:\", mean)\n"
      ],
      "metadata": {
        "colab": {
          "base_uri": "https://localhost:8080/"
        },
        "id": "92_nPL9UJtBR",
        "outputId": "cf5566bd-4e66-4b14-eee9-cb20c8c16274"
      },
      "execution_count": null,
      "outputs": [
        {
          "output_type": "stream",
          "name": "stdout",
          "text": [
            "Grouped Mean: 15.0\n"
          ]
        }
      ]
    },
    {
      "cell_type": "markdown",
      "source": [
        "### 14. Simulate data using Python and calculate its central tendency and dispersion\n",
        "\n",
        "We simulate a dataset using NumPy, and then calculate:\n",
        "- Mean, Median, Mode (central tendency)\n",
        "- Variance, Standard Deviation, Range (dispersion)\n"
      ],
      "metadata": {
        "id": "YTVBBRTjFdk0"
      }
    },
    {
      "cell_type": "code",
      "source": [
        "import numpy as np\n",
        "import pandas as pd\n",
        "from scipy import stats\n",
        "\n",
        "# Simulate data: Let's simulate 100 exam scores between 0 and 100\n",
        "np.random.seed(42)  # for reproducibility\n",
        "scores = np.random.normal(loc=70, scale=10, size=100)  # mean=70, std=10\n",
        "\n",
        "# Create a DataFrame\n",
        "df = pd.DataFrame(scores, columns=['Scores'])\n",
        "\n",
        "# Central Tendency\n",
        "mean = np.mean(scores)\n",
        "median = np.median(scores)\n",
        "mode = stats.mode(scores, keepdims=True).mode[0]\n",
        "\n",
        "# Dispersion\n",
        "variance = np.var(scores)\n",
        "std_dev = np.std(scores)\n",
        "data_range = np.max(scores) - np.min(scores)\n",
        "\n",
        "# Output results\n",
        "print(\"Central Tendency:\")\n",
        "print(f\"Mean: {mean:.2f}\")\n",
        "print(f\"Median: {median:.2f}\")\n",
        "print(f\"Mode: {mode:.2f}\")\n",
        "\n",
        "print(\"\\nDispersion:\")\n",
        "print(f\"Variance: {variance:.2f}\")\n",
        "print(f\"Standard Deviation: {std_dev:.2f}\")\n",
        "print(f\"Range: {data_range:.2f}\")\n"
      ],
      "metadata": {
        "colab": {
          "base_uri": "https://localhost:8080/"
        },
        "id": "cwuxu9YGFg3s",
        "outputId": "11d57c71-5956-47bc-e77a-928e50285582"
      },
      "execution_count": 6,
      "outputs": [
        {
          "output_type": "stream",
          "name": "stdout",
          "text": [
            "Central Tendency:\n",
            "Mean: 68.96\n",
            "Median: 68.73\n",
            "Mode: 43.80\n",
            "\n",
            "Dispersion:\n",
            "Variance: 81.65\n",
            "Standard Deviation: 9.04\n",
            "Range: 44.72\n"
          ]
        }
      ]
    },
    {
      "cell_type": "code",
      "source": [
        "\n",
        "# 15. Use NumPy or pandas to summarize a dataset’s descriptive statistics.\n",
        "\n",
        "import numpy as np\n",
        "import pandas as pd\n",
        "\n",
        "# Simulate a dataset of exam scores\n",
        "np.random.seed(1)\n",
        "scores = np.random.normal(loc=75, scale=12, size=150)  # mean=75, std=12, 150 students\n",
        "\n",
        "# Create a DataFrame\n",
        "df = pd.DataFrame({'Exam Scores': scores})\n",
        "\n",
        "# Summarize descriptive statistics using pandas\n",
        "summary = df.describe()\n",
        "\n",
        "# Display the summary\n",
        "print(\"Descriptive Statistics Summary:\")\n",
        "print(summary)\n"
      ],
      "metadata": {
        "colab": {
          "base_uri": "https://localhost:8080/"
        },
        "id": "r4phXyoCFER_",
        "outputId": "ba535eac-e420-4289-fddd-1dbe158cc9e7"
      },
      "execution_count": 7,
      "outputs": [
        {
          "output_type": "stream",
          "name": "stdout",
          "text": [
            "Descriptive Statistics Summary:\n",
            "       Exam Scores\n",
            "count   150.000000\n",
            "mean     75.823299\n",
            "std      10.604165\n",
            "min      47.381536\n",
            "25%      67.682430\n",
            "50%      76.435006\n",
            "75%      83.329943\n",
            "max     101.226905\n"
          ]
        }
      ]
    },
    {
      "cell_type": "markdown",
      "source": [
        "### 16. Plot a boxplot to understand the spread and identify outliers\n",
        "\n",
        "We generate a dataset of exam scores and plot a boxplot using Seaborn to visualize:\n",
        "- The data spread (distribution),\n",
        "- Quartiles,\n",
        "- And any potential outliers.\n"
      ],
      "metadata": {
        "id": "NlWYHpY8GH4Z"
      }
    },
    {
      "cell_type": "code",
      "source": [
        "\n",
        "import numpy as np\n",
        "import pandas as pd\n",
        "import seaborn as sns\n",
        "import matplotlib.pyplot as plt\n",
        "\n",
        "# Simulate exam scores\n",
        "np.random.seed(10)\n",
        "scores = np.random.normal(loc=70, scale=15, size=120)\n",
        "\n",
        "# Convert to DataFrame\n",
        "df = pd.DataFrame({'Exam Scores': scores})\n",
        "\n",
        "# Create boxplot\n",
        "plt.figure(figsize=(8, 5))\n",
        "sns.boxplot(y='Exam Scores', data=df, color='skyblue')\n",
        "plt.title('Boxplot of Exam Scores')\n",
        "plt.ylabel('Score')\n",
        "plt.grid(True)\n",
        "plt.show()\n"
      ],
      "metadata": {
        "colab": {
          "base_uri": "https://localhost:8080/",
          "height": 449
        },
        "id": "2Ve40vXCF6wW",
        "outputId": "f7c0e73f-20ce-4d57-8fd1-cc888d9556a0"
      },
      "execution_count": 9,
      "outputs": [
        {
          "output_type": "display_data",
          "data": {
            "text/plain": [
              "<Figure size 800x500 with 1 Axes>"
            ],
            "image/png": "[encoded data removed]"
          },
          "metadata": {}
        }
      ]
    },
    {
      "cell_type": "markdown",
      "source": [
        "### 17. Calculate the interquartile range (IQR) of a dataset\n",
        "\n",
        "The Interquartile Range (IQR) is a measure of statistical dispersion and is calculated as:\n",
        "**IQR = Q3 − Q1**  \n",
        "Where:\n",
        "- **Q1** is the 25th percentile\n",
        "- **Q3** is the 75th percentile\n"
      ],
      "metadata": {
        "id": "CSAf_exNIB3x"
      }
    },
    {
      "cell_type": "code",
      "source": [
        "import numpy as np\n",
        "import pandas as pd\n",
        "\n",
        "# Simulate a dataset\n",
        "np.random.seed(42)\n",
        "data = np.random.normal(loc=50, scale=10, size=100)  # Mean=50, Std=10, 100 values\n",
        "\n",
        "# Convert to DataFrame\n",
        "df = pd.DataFrame({'Values': data})\n",
        "\n",
        "# Calculate Q1 and Q3\n",
        "Q1 = df['Values'].quantile(0.25)\n",
        "Q3 = df['Values'].quantile(0.75)\n",
        "\n",
        "# Calculate IQR\n",
        "IQR = Q3 - Q1\n",
        "\n",
        "print(f\"Q1 (25th percentile): {Q1:.2f}\")\n",
        "print(f\"Q3 (75th percentile): {Q3:.2f}\")\n",
        "print(f\"Interquartile Range (IQR): {IQR:.2f}\")\n"
      ],
      "metadata": {
        "colab": {
          "base_uri": "https://localhost:8080/"
        },
        "id": "di2t1yvgIDlq",
        "outputId": "dd7b4fb6-4660-4b17-912b-44866661dde0"
      },
      "execution_count": 10,
      "outputs": [
        {
          "output_type": "stream",
          "name": "stdout",
          "text": [
            "Q1 (25th percentile): 43.99\n",
            "Q3 (75th percentile): 54.06\n",
            "Interquartile Range (IQR): 10.07\n"
          ]
        }
      ]
    },
    {
      "cell_type": "markdown",
      "source": [
        "### 18. Implement Z-score normalization and explain its significance\n",
        "\n",
        "**Z-score normalization** (also known as standardization) transforms data to have a **mean of 0** and a **standard deviation of 1**.\n",
        "\n",
        "####  Formula:\n",
        "\\[\n",
        "Z = \\frac{(X - \\mu)}{\\sigma}\n",
        "\\]\n",
        "Where:  \n",
        "- **X** = original value  \n",
        "- **μ** = mean of the dataset  \n",
        "- **σ** = standard deviation of the dataset\n",
        "\n",
        "####  Significance:\n",
        "- Makes different features comparable when they have different units or scales.\n",
        "- Useful in machine learning algorithms that assume data is normally distributed (e.g., KNN, SVM, logistic regression).\n"
      ],
      "metadata": {
        "id": "hxnDhPFDILBu"
      }
    },
    {
      "cell_type": "code",
      "source": [
        "import numpy as np\n",
        "import pandas as pd\n",
        "from scipy.stats import zscore\n",
        "\n",
        "# Simulate a dataset\n",
        "np.random.seed(0)\n",
        "data = np.random.randint(30, 100, 50)\n",
        "\n",
        "# Create DataFrame\n",
        "df = pd.DataFrame({'Raw Scores': data})\n",
        "\n",
        "# Apply Z-score normalization\n",
        "df['Z-Score'] = zscore(df['Raw Scores'])\n",
        "\n",
        "# Display results\n",
        "print(df.head())\n",
        "\n",
        "# Verify mean ≈ 0 and std ≈ 1 after normalization\n",
        "print(\"\\nAfter Z-score normalization:\")\n",
        "print(f\"Mean: {df['Z-Score'].mean():.2f}\")\n",
        "print(f\"Standard Deviation: {df['Z-Score'].std():.2f}\")\n"
      ],
      "metadata": {
        "colab": {
          "base_uri": "https://localhost:8080/"
        },
        "id": "DBbQMEZBIYnC",
        "outputId": "f5e07e4f-8d35-4c00-80e0-a67eebf3430b"
      },
      "execution_count": 11,
      "outputs": [
        {
          "output_type": "stream",
          "name": "stdout",
          "text": [
            "   Raw Scores   Z-Score\n",
            "0          74  0.426281\n",
            "1          77  0.573613\n",
            "2          94  1.408495\n",
            "3          97  1.555827\n",
            "4          97  1.555827\n",
            "\n",
            "After Z-score normalization:\n",
            "Mean: 0.00\n",
            "Standard Deviation: 1.01\n"
          ]
        }
      ]
    },
    {
      "cell_type": "markdown",
      "source": [
        "### 19. Compare two datasets using their standard deviations\n",
        "\n",
        "- Standard deviation measures how spread out the values in a dataset are from the mean. A higher standard deviation indicates greater variability.\n",
        "\n",
        "- In this example, we create two datasets with different spreads and compare their standard deviations to understand which dataset has more variation.\n"
      ],
      "metadata": {
        "id": "LMN3QkEdIbsR"
      }
    },
    {
      "cell_type": "code",
      "source": [
        "import numpy as np\n",
        "import pandas as pd\n",
        "\n",
        "# Create two datasets with different variability\n",
        "np.random.seed(42)\n",
        "data1 = np.random.normal(loc=60, scale=5, size=100)   # low variability\n",
        "data2 = np.random.normal(loc=60, scale=15, size=100)  # high variability\n",
        "\n",
        "# Create DataFrame\n",
        "df = pd.DataFrame({'Dataset 1': data1, 'Dataset 2': data2})\n",
        "\n",
        "# Calculate standard deviations\n",
        "std1 = df['Dataset 1'].std()\n",
        "std2 = df['Dataset 2'].std()\n",
        "\n",
        "print(f\"Standard Deviation of Dataset 1: {std1:.2f}\")\n",
        "print(f\"Standard Deviation of Dataset 2: {std2:.2f}\")\n",
        "\n",
        "# Conclusion\n",
        "if std1 > std2:\n",
        "    print(\"\\nDataset 1 has more variability.\")\n",
        "elif std2 > std1:\n",
        "    print(\"\\nDataset 2 has more variability.\")\n",
        "else:\n",
        "    print(\"\\nBoth datasets have equal variability.\")\n"
      ],
      "metadata": {
        "colab": {
          "base_uri": "https://localhost:8080/"
        },
        "id": "FpTowM52Ib90",
        "outputId": "6e29e89e-7b53-44a0-83cd-bccd42a23b9b"
      },
      "execution_count": 12,
      "outputs": [
        {
          "output_type": "stream",
          "name": "stdout",
          "text": [
            "Standard Deviation of Dataset 1: 4.54\n",
            "Standard Deviation of Dataset 2: 14.31\n",
            "\n",
            "Dataset 2 has more variability.\n"
          ]
        }
      ]
    },
    {
      "cell_type": "markdown",
      "source": [
        "### 20. Write a Python program to visualize covariance using a heatmap\n",
        "\n",
        "- Covariance measures the directional relationship between two variables. A heatmap helps visualize the covariance matrix, highlighting positive or negative relationships among features in a dataset.\n"
      ],
      "metadata": {
        "id": "8ANVjK_4IcLX"
      }
    },
    {
      "cell_type": "code",
      "source": [
        "import numpy as np\n",
        "import pandas as pd\n",
        "import seaborn as sns\n",
        "import matplotlib.pyplot as plt\n",
        "\n",
        "# Simulate a dataset with 3 features\n",
        "np.random.seed(10)\n",
        "data = {\n",
        "    'Height': np.random.normal(160, 10, 100),\n",
        "    'Weight': np.random.normal(65, 15, 100),\n",
        "    'Age': np.random.normal(30, 8, 100)\n",
        "}\n",
        "\n",
        "# Create DataFrame\n",
        "df = pd.DataFrame(data)\n",
        "\n",
        "# Calculate covariance matrix\n",
        "cov_matrix = df.cov()\n",
        "\n",
        "# Plot heatmap\n",
        "plt.figure(figsize=(8, 6))\n",
        "sns.heatmap(cov_matrix, annot=True, cmap='coolwarm', fmt=\".2f\")\n",
        "plt.title(\"Covariance Matrix Heatmap\")\n",
        "plt.show()\n"
      ],
      "metadata": {
        "colab": {
          "base_uri": "https://localhost:8080/",
          "height": 545
        },
        "id": "S9PeB8dNIcVM",
        "outputId": "c0e03500-536e-44d8-f47d-0d752f4b632a"
      },
      "execution_count": 13,
      "outputs": [
        {
          "output_type": "display_data",
          "data": {
            "text/plain": [
              "<Figure size 800x600 with 2 Axes>"
            ],
            "image/png": "[encoded data removed]"
          },
          "metadata": {}
        }
      ]
    },
    {
      "cell_type": "markdown",
      "source": [
        "### 21. Use seaborn to create a correlation matrix for a dataset\n",
        "\n",
        "- A **correlation matrix** shows the strength and direction of linear relationships between pairs of variables.  \n",
        "- Values range from **-1** (perfect negative correlation) to **+1** (perfect positive correlation).  \n",
        "- Using `seaborn`, we can easily visualize this with a heatmap.\n"
      ],
      "metadata": {
        "id": "G8oPIByqIcfX"
      }
    },
    {
      "cell_type": "code",
      "source": [
        "import numpy as np\n",
        "import pandas as pd\n",
        "import seaborn as sns\n",
        "import matplotlib.pyplot as plt\n",
        "\n",
        "# Generate a sample dataset\n",
        "np.random.seed(0)\n",
        "data = {\n",
        "    'Math': np.random.normal(70, 10, 100),\n",
        "    'Science': np.random.normal(75, 12, 100),\n",
        "    'English': np.random.normal(65, 8, 100),\n",
        "    'History': np.random.normal(60, 15, 100)\n",
        "}\n",
        "\n",
        "df = pd.DataFrame(data)\n",
        "\n",
        "# Compute correlation matrix\n",
        "corr_matrix = df.corr()\n",
        "\n",
        "# Plot heatmap\n",
        "plt.figure(figsize=(8, 6))\n",
        "sns.heatmap(corr_matrix, annot=True, cmap='coolwarm', fmt=\".2f\")\n",
        "plt.title(\"Correlation Matrix Heatmap\")\n",
        "plt.show()\n"
      ],
      "metadata": {
        "colab": {
          "base_uri": "https://localhost:8080/",
          "height": 545
        },
        "id": "byozaTkHIcnj",
        "outputId": "5315e074-422a-41c9-a549-7779d670ab2f"
      },
      "execution_count": 14,
      "outputs": [
        {
          "output_type": "display_data",
          "data": {
            "text/plain": [
              "<Figure size 800x600 with 2 Axes>"
            ],
            "image/png": "[encoded data removed]"
          },
          "metadata": {}
        }
      ]
    },
    {
      "cell_type": "markdown",
      "source": [
        "### 22. Generate a dataset and implement both variance and standard deviation computations\n",
        "\n",
        "- **Variance** measures the average of the squared differences from the mean.  \n",
        "- **Standard Deviation** is the square root of the variance and represents data spread in the same units as the data.\n",
        "\n",
        "Both are used to quantify how much values in a dataset deviate from the mean.\n"
      ],
      "metadata": {
        "id": "1eNuw1yGIcwV"
      }
    },
    {
      "cell_type": "code",
      "source": [
        "import numpy as np\n",
        "import pandas as pd\n",
        "\n",
        "# Generate a dataset\n",
        "np.random.seed(1)\n",
        "data = np.random.randint(50, 100, size=20)\n",
        "\n",
        "# Convert to DataFrame\n",
        "df = pd.DataFrame({'Scores': data})\n",
        "\n",
        "# Calculate variance and standard deviation\n",
        "variance = df['Scores'].var()\n",
        "std_dev = df['Scores'].std()\n",
        "\n",
        "print(\"Dataset:\\n\", df.head(), \"\\n\")\n",
        "print(f\"Variance: {variance:.2f}\")\n",
        "print(f\"Standard Deviation: {std_dev:.2f}\")\n"
      ],
      "metadata": {
        "colab": {
          "base_uri": "https://localhost:8080/"
        },
        "id": "hb5ia26WIc3g",
        "outputId": "5e4906c7-e72a-4917-8d5d-228d6deb0a06"
      },
      "execution_count": 15,
      "outputs": [
        {
          "output_type": "stream",
          "name": "stdout",
          "text": [
            "Dataset:\n",
            "    Scores\n",
            "0      87\n",
            "1      93\n",
            "2      62\n",
            "3      58\n",
            "4      59 \n",
            "\n",
            "Variance: 183.50\n",
            "Standard Deviation: 13.55\n"
          ]
        }
      ]
    },
    {
      "cell_type": "markdown",
      "source": [
        "### 23. Visualize skewness and kurtosis using Python libraries like matplotlib or seaborn\n",
        "\n",
        "- **Skewness** measures the asymmetry of the data distribution.  \n",
        "- **Kurtosis** measures the \"tailedness\" — how heavy or light the tails are compared to a normal distribution.\n",
        "\n",
        "In this example, we generate a dataset, calculate skewness and kurtosis, and visualize the distribution using seaborn.\n"
      ],
      "metadata": {
        "id": "6cm19QAsIc_y"
      }
    },
    {
      "cell_type": "code",
      "source": [
        "import numpy as np\n",
        "import pandas as pd\n",
        "import seaborn as sns\n",
        "import matplotlib.pyplot as plt\n",
        "from scipy.stats import skew, kurtosis\n",
        "\n",
        "# Generate a dataset with skewness and kurtosis\n",
        "np.random.seed(42)\n",
        "data = np.random.gamma(shape=2, scale=2, size=1000)\n",
        "\n",
        "# Create DataFrame\n",
        "df = pd.DataFrame({'Data': data})\n",
        "\n",
        "# Calculate skewness and kurtosis\n",
        "sk = skew(df['Data'])\n",
        "kt = kurtosis(df['Data'])\n",
        "\n",
        "print(f\"Skewness: {sk:.2f}\")\n",
        "print(f\"Kurtosis: {kt:.2f}\")\n",
        "\n",
        "# Plot histogram with KDE\n",
        "plt.figure(figsize=(8, 5))\n",
        "sns.histplot(df['Data'], kde=True, color='skyblue')\n",
        "plt.title('Distribution with Skewness and Kurtosis')\n",
        "plt.xlabel('Value')\n",
        "plt.ylabel('Frequency')\n",
        "plt.grid(True)\n",
        "plt.show()\n"
      ],
      "metadata": {
        "colab": {
          "base_uri": "https://localhost:8080/",
          "height": 522
        },
        "id": "JOPJjD5IIdGd",
        "outputId": "286bc608-7026-425e-98ba-4cf2fbe2813b"
      },
      "execution_count": 16,
      "outputs": [
        {
          "output_type": "stream",
          "name": "stdout",
          "text": [
            "Skewness: 1.20\n",
            "Kurtosis: 1.43\n"
          ]
        },
        {
          "output_type": "display_data",
          "data": {
            "text/plain": [
              "<Figure size 800x500 with 1 Axes>"
            ],
            "image/png": "[encoded data removed]"
          },
          "metadata": {}
        }
      ]
    },
    {
      "cell_type": "markdown",
      "source": [
        "### 24. Implement the Pearson and Spearman correlation coefficients for a dataset\n",
        "\n",
        "- **Pearson correlation coefficient** measures the linear relationship between two continuous variables.  \n",
        "It ranges from **-1 to +1**, where **+1** is perfect positive correlation, **-1** is perfect negative correlation, and **0** indicates no linear correlation.\n",
        "\n",
        "- **Spearman rank correlation** measures the monotonic relationship between two variables, considering their ranks. It is useful when the relationship is not necessarily linear.\n",
        "\n",
        "We can calculate both using the `scipy.stats` library.\n"
      ],
      "metadata": {
        "id": "f-52A2C1J9V-"
      }
    },
    {
      "cell_type": "code",
      "source": [
        "import numpy as np\n",
        "import pandas as pd\n",
        "from scipy.stats import pearsonr, spearmanr\n",
        "\n",
        "# Generate a dataset with two variables\n",
        "np.random.seed(10)\n",
        "x = np.random.normal(0, 1, 100)\n",
        "y = 2 * x + np.random.normal(0, 1, 100)  # Linear relationship with noise\n",
        "\n",
        "# Pearson correlation\n",
        "pearson_corr, _ = pearsonr(x, y)\n",
        "\n",
        "# Spearman correlation\n",
        "spearman_corr, _ = spearmanr(x, y)\n",
        "\n",
        "print(f\"Pearson correlation coefficient: {pearson_corr:.2f}\")\n",
        "print(f\"Spearman rank correlation coefficient: {spearman_corr:.2f}\")\n"
      ],
      "metadata": {
        "colab": {
          "base_uri": "https://localhost:8080/"
        },
        "id": "fQjO8C90J9jY",
        "outputId": "8a4eb14f-6703-458b-ba2e-d0099e58ca39"
      },
      "execution_count": 17,
      "outputs": [
        {
          "output_type": "stream",
          "name": "stdout",
          "text": [
            "Pearson correlation coefficient: 0.90\n",
            "Spearman rank correlation coefficient: 0.87\n"
          ]
        }
      ]
    }
  ]
}